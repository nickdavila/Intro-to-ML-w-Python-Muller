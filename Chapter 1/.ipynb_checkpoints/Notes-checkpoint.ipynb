{
 "cells": [
  {
   "cell_type": "markdown",
   "id": "671d2e25",
   "metadata": {},
   "source": [
    "## Problems Machine Learning can solve\n",
    "\n",
    "(IBM Markdown cheatsheet: https://www.ibm.com/docs/en/db2-event-store/2.0.0?topic=notebooks-markdown-jupyter-cheatsheet)"
   ]
  },
  {
   "cell_type": "markdown",
   "id": "97ce0590",
   "metadata": {},
   "source": [
    "Most successful kinds of ML algorithms are those that automate decision-making processes by generalizing from known examples.\n",
    "\n",
    "These are known as *supervised learning* algorithms\n",
    "    \n",
    "   - The user provides the algorithm with inputs and desired outputs. The algorithm then finds a way to produce the desired output given an input.\n",
    "   \n",
    "   \n",
    "   - The algorithm is also then able to create an output for an input it has never seen before (without any help from a human). The algorithm is able to *predict*.\n",
    "    "
   ]
  },
  {
   "cell_type": "code",
   "execution_count": null,
   "id": "3225c2cf",
   "metadata": {},
   "outputs": [],
   "source": []
  }
 ],
 "metadata": {
  "kernelspec": {
   "display_name": "Python 3 (ipykernel)",
   "language": "python",
   "name": "python3"
  },
  "language_info": {
   "codemirror_mode": {
    "name": "ipython",
    "version": 3
   },
   "file_extension": ".py",
   "mimetype": "text/x-python",
   "name": "python",
   "nbconvert_exporter": "python",
   "pygments_lexer": "ipython3",
   "version": "3.10.5"
  }
 },
 "nbformat": 4,
 "nbformat_minor": 5
}
